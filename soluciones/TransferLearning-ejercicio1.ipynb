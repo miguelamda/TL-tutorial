{
  "nbformat": 4,
  "nbformat_minor": 0,
  "metadata": {
    "kernelspec": {
      "display_name": "Python 3",
      "language": "python",
      "name": "python3"
    },
    "language_info": {
      "codemirror_mode": {
        "name": "ipython",
        "version": 3
      },
      "file_extension": ".py",
      "mimetype": "text/x-python",
      "name": "python",
      "nbconvert_exporter": "python",
      "pygments_lexer": "ipython3",
      "version": "3.7.3"
    },
    "colab": {
      "name": "TransferLearning-Ejercicio1.ipynb",
      "provenance": []
    },
    "accelerator": "GPU"
  },
  "cells": [
    {
      "cell_type": "markdown",
      "metadata": {
        "colab_type": "text",
        "id": "ni9VMY1GIYlK"
      },
      "source": [
        "# Ejercicio 1. Transfer Learning con VGG16\n",
        "\n",
        "Ejercicio 1 del tutorial de Transfer Learning.\n",
        "\n",
        "GPT2: Diseño y Gestión de Proyectos en Data Science II.\n",
        "[Máster en Data Science y Big Data](http://masterds.es/) de la [Universidad de Sevilla](http://www.us.es). \n",
        "\n",
        "25/06/2020. Profesor: [Miguel Ángel Martínez del Amor](http://www.cs.us.es/~mdelamor)\n",
        "\n",
        "Este ejercicio puede ayudar a mejorar las habilidades con Keras. Para ello se propone emplear el modelo VGG16, el cual es más sencillo y que ya habéis visto en clase (o accediendo [aquí](https://github.com/fsancho/DL/blob/master/4.%20Redes%20Convolucionales/4.3.%20CNN%20Preentrenadas.ipynb)). "
      ]
    },
    {
      "cell_type": "markdown",
      "metadata": {
        "colab_type": "text",
        "id": "_jBmnvUlIYlO"
      },
      "source": [
        "## 1. Importación de librerías y funciones auxiliares <a class=\"anchor\" id=\"transferimp\"></a>"
      ]
    },
    {
      "cell_type": "code",
      "metadata": {
        "id": "y1r3-5CbamCL",
        "colab_type": "code",
        "colab": {}
      },
      "source": [
        "# Antes de nada, si estás en Google Colab, evalúa esta celda:\n",
        "import os\n",
        "work_dir = \"/content/TL-tutorial/\"\n",
        "if os.getcwd() != work_dir:\n",
        "    !git clone https://github.com/miguelamda/TL-tutorial.git\n",
        "os.chdir(work_dir)"
      ],
      "execution_count": null,
      "outputs": []
    },
    {
      "cell_type": "code",
      "metadata": {
        "colab_type": "code",
        "id": "RvEmFXz-IYlP",
        "colab": {}
      },
      "source": [
        "%matplotlib inline\n",
        "import matplotlib.pyplot as plt\n",
        "import PIL\n",
        "import tensorflow as tf\n",
        "import numpy as np\n",
        "import os"
      ],
      "execution_count": 2,
      "outputs": []
    },
    {
      "cell_type": "markdown",
      "metadata": {
        "colab_type": "text",
        "id": "7QO-LQbbIYlb"
      },
      "source": [
        "A continuación la importación de la API de Keras. Como **primer ejercicio**, busca como se llama la función que carga el modelo VGG16, e importala en la celda siguiente."
      ]
    },
    {
      "cell_type": "code",
      "metadata": {
        "colab_type": "code",
        "id": "yFQhw0KuIYlc",
        "colab": {
          "base_uri": "https://localhost:8080/",
          "height": 52
        },
        "outputId": "16e3dcd6-1eb4-4354-bacd-ce1793db22b9"
      },
      "source": [
        "from tensorflow import keras\n",
        "from keras.models import Model, Sequential\n",
        "from keras.layers import Dense, Flatten, Dropout\n",
        "from keras.preprocessing.image import ImageDataGenerator\n",
        "from keras.optimizers import Adam, RMSprop\n",
        "\n",
        "# Importa a continuación la función que carga el modelo VGG16\n",
        "from keras.applications import VGG16\n",
        "from keras.applications.vgg16 import preprocess_input, decode_predictions\n",
        "\n",
        "tf.__version__"
      ],
      "execution_count": 3,
      "outputs": [
        {
          "output_type": "stream",
          "text": [
            "Using TensorFlow backend.\n"
          ],
          "name": "stderr"
        },
        {
          "output_type": "execute_result",
          "data": {
            "text/plain": [
              "'2.2.0'"
            ]
          },
          "metadata": {
            "tags": []
          },
          "execution_count": 3
        }
      ]
    },
    {
      "cell_type": "markdown",
      "metadata": {
        "colab_type": "text",
        "id": "QRUx2exEIYlg"
      },
      "source": [
        "Vamos a usar las mismas funciones auxiliares que en el tutorial, las tienes a continuación, todas en una sola celda para definirlas más rápido."
      ]
    },
    {
      "cell_type": "code",
      "metadata": {
        "colab_type": "code",
        "id": "uO5HEcP5IYd6",
        "colab": {}
      },
      "source": [
        "def path_join(dirname, filenames):\n",
        "    return [os.path.join(dirname, filename) for filename in filenames]\n",
        "\n",
        "def plot_images(images, cls_true, cls_pred=None, smooth=True):\n",
        "\n",
        "    assert len(images) == len(cls_true)\n",
        "\n",
        "    # Crea una figura con sub-gráficas.\n",
        "    fig, axes = plt.subplots(3, 3)\n",
        "\n",
        "    # Ajusta el espacio vertical.\n",
        "    if cls_pred is None:\n",
        "        hspace = 0.3\n",
        "    else:\n",
        "        hspace = 0.6\n",
        "    fig.subplots_adjust(hspace=hspace, wspace=0.3)\n",
        "\n",
        "    # Tipo de interpolación.\n",
        "    if smooth:\n",
        "        interpolation = 'spline16'\n",
        "    else:\n",
        "        interpolation = 'nearest'\n",
        "\n",
        "    for i, ax in enumerate(axes.flat):\n",
        "        # Puede haber menos de 9 imágenes, nos aseguramos que no falle.\n",
        "        if i < len(images):\n",
        "            # Dibuja imagen.\n",
        "            ax.imshow(images[i],\n",
        "                      interpolation=interpolation)\n",
        "\n",
        "            # Number de la true class.\n",
        "            cls_true_name = class_names[cls_true[i]]\n",
        "\n",
        "            # Muestra clases predichas y verdaderas.\n",
        "            if cls_pred is None:\n",
        "                xlabel = \"True: {0}\".format(cls_true_name)\n",
        "            else:\n",
        "                # Nombre de la clase predicha.\n",
        "                cls_pred_name = class_names[cls_pred[i]]\n",
        "\n",
        "                xlabel = \"True: {0}\\nPred: {1}\".format(cls_true_name, cls_pred_name)\n",
        "\n",
        "            # Muestra las clases con la etiqueta en el eje x.\n",
        "            ax.set_xlabel(xlabel)\n",
        "        \n",
        "        # Elimina ticks en la gráfica.\n",
        "        ax.set_xticks([])\n",
        "        ax.set_yticks([])\n",
        "    \n",
        "    # Asegurar que la gráfica se muestra correctamente con gráficos múltiples\n",
        "    # en una sola celda Notebook.\n",
        "    plt.show()\n",
        "    \n",
        "# Importa una función de sklearn para calcular la matriz de confusión.\n",
        "from sklearn.metrics import confusion_matrix\n",
        "\n",
        "def print_confusion_matrix(cls_pred):\n",
        "    # cls_pred es un array del número de la clase predicha para\n",
        "    # todas las imágenes del conjunto de test.\n",
        "\n",
        "    # Obtiene la matriz de confusión usando sklearn.\n",
        "    cm = confusion_matrix(y_true=cls_test,  # True class para el conjunto de test.\n",
        "                          y_pred=cls_pred)  # Predicted class.\n",
        "\n",
        "    print(\"Matriz de confusión:\")\n",
        "    \n",
        "    # Imprime la matriz de confusión como texto.\n",
        "    print(cm)\n",
        "    \n",
        "    # Imprime los nombres de clases para facilitar la referencia.\n",
        "    for i, class_name in enumerate(class_names):\n",
        "        print(\"({0}) {1}\".format(i, class_name))\n",
        "        \n",
        "def plot_example_errors(cls_pred):\n",
        "    # cls_pred es un array del número de la clase predicha para\n",
        "    # todas las imágenes en el conjunto de test.\n",
        "\n",
        "    # Array booleano indicando si la clase predicha es incorrecta.\n",
        "    incorrect = (cls_pred != cls_test)\n",
        "\n",
        "    # Obtiene las rutas de ficheros para las imágenes que son clasificadas incorrectamente.\n",
        "    image_paths = np.array(image_paths_test)[incorrect]\n",
        "\n",
        "    # Carga las primeras 9 imágenes.\n",
        "    images = load_images(image_paths=image_paths[0:9])\n",
        "    \n",
        "    # Obtiene las clases predichas para esas imágenes.\n",
        "    cls_pred = cls_pred[incorrect]\n",
        "\n",
        "    # Obtiene las clases de verdad para esas imágenes.\n",
        "    cls_true = cls_test[incorrect]\n",
        "    \n",
        "    # Muestra las 9 imágenes que hemos cargado y sus correspondientes clases.\n",
        "    # Tenemos solo 9 imágenes, por lo que no hace falta dividirlas otra vez.\n",
        "    plot_images(images=images,\n",
        "                cls_true=cls_true[0:9],\n",
        "                cls_pred=cls_pred[0:9])\n",
        "    \n",
        "def example_errors(model=None):\n",
        "    # El generador de datos de Keras para el conjunto de test se debe resetear\n",
        "    # antes del procesamiento. Esto es porque el generador va a iterar\n",
        "    # infintamente y mantendrá un índice interno en el dataset.\n",
        "    # Por tanto, se podrá comenzar por el medio del conjunto de test si no lo\n",
        "    # reseteamos primero. Esto imposibilita encajar las clases predichas con\n",
        "    # las imágenes de entrada. Si reseteamos el generador, entonces siempre\n",
        "    # compienza por el comienzo, así que sabemos exáctamente qué imágenes\n",
        "    # de entrada se están usando.\n",
        "    if model is None:\n",
        "        model = new_model\n",
        "        \n",
        "    generator_test.reset()\n",
        "    \n",
        "    # Predecir las clases para todas las imágenes del conjunto de test.\n",
        "    y_pred = model.predict_generator(generator_test,\n",
        "                                      steps=steps_test)\n",
        "\n",
        "    # Convertir las clases predichas de arrays a enteros.\n",
        "    cls_pred = np.argmax(y_pred,axis=1)\n",
        "\n",
        "    # Muestra los ejemplos de imágenes mal clasificados.\n",
        "    plot_example_errors(cls_pred)\n",
        "    \n",
        "    # Muestra la matriz de confusión.\n",
        "    print_confusion_matrix(cls_pred)\n",
        "    \n",
        "def load_images(image_paths):\n",
        "    # Carga las imágenes de disco.\n",
        "    images = [plt.imread(path) for path in image_paths]\n",
        "\n",
        "    # Convierte a un array de numpy y lo devuelve.\n",
        "    return np.asarray(images)\n",
        "\n",
        "def plot_training_history(history):\n",
        "    # Obtiene la precisión de clasificación y el valor de pérdida para el\n",
        "    # conjunto de entrenamiento.\n",
        "    acc = history.history['categorical_accuracy']\n",
        "    loss = history.history['loss']\n",
        "\n",
        "    # También para el conjunto de validación (solo usamos el del conjunto de test).\n",
        "    val_acc = history.history['val_categorical_accuracy']\n",
        "    val_loss = history.history['val_loss']\n",
        "\n",
        "    # Muestra el valor del accuracy y pérdida para el conjunto de entrenamiento.\n",
        "    plt.plot(acc, linestyle='-', color='b', label='Training Acc.')\n",
        "    plt.plot(loss, 'o', color='b', label='Training Loss')\n",
        "    \n",
        "    # Muestra el del conjunto de test.\n",
        "    plt.plot(val_acc, linestyle='--', color='r', label='Test Acc.')\n",
        "    plt.plot(val_loss, 'o', color='r', label='Test Loss')\n",
        "\n",
        "    # Muestra el título y la leyenda.\n",
        "    plt.title('Training and Test Accuracy')\n",
        "    plt.legend()\n",
        "\n",
        "    # Se asegura de mostrar la gráfica correctamente.\n",
        "    plt.show()"
      ],
      "execution_count": 4,
      "outputs": []
    },
    {
      "cell_type": "markdown",
      "metadata": {
        "colab_type": "text",
        "id": "ExBplxfMIYlm"
      },
      "source": [
        "## 2. El Modelo Pre-Entrenado: VGG16 \n",
        "\n",
        "Lo siguiente crea una instancia del modelo VGG16 pre-entrenado usando la API de [Keras](https://keras.io/). Esto descarga automáticamente los archivos necesarios si no los tiene ya. \n",
        "\n",
        "El modelo VGG16 contiene una parte convolucional y una parte completamente conectada (o densa) que se utiliza para la clasificación. Si `include_top=True` entonces se descarga todo el modelo VGG16 que tiene unos 528 MB. Si `include_top=False` entonces sólo se descarga la parte convolucional del modelo VGG16, que es de sólo 57 MB. Descaragaremos esta última versión."
      ]
    },
    {
      "cell_type": "markdown",
      "metadata": {
        "colab_type": "text",
        "id": "x_jS1EYVIYlo"
      },
      "source": [
        "![VGG model](https://github.com/miguelamda/TL-tutorial/blob/master/images/11_vgg_model.png?raw=1)"
      ]
    },
    {
      "cell_type": "code",
      "metadata": {
        "colab_type": "code",
        "id": "w0TMoN3RIYlp",
        "scrolled": true,
        "colab": {}
      },
      "source": [
        "vggmodel = VGG16(include_top=True)"
      ],
      "execution_count": 5,
      "outputs": []
    },
    {
      "cell_type": "markdown",
      "metadata": {
        "colab_type": "text",
        "id": "saAfmzgGIYlt"
      },
      "source": [
        "## 3. El Dataset: Knifey-Spoony \n",
        "\n",
        "Carga el dataset tal y como se vió en el tutorial. A continuación las líneas de código."
      ]
    },
    {
      "cell_type": "code",
      "metadata": {
        "id": "lBEvDoALGPrR",
        "colab_type": "code",
        "colab": {
          "base_uri": "https://localhost:8080/",
          "height": 104
        },
        "outputId": "2ac2bd7b-80d3-464e-e093-5408aba29218"
      },
      "source": [
        "# Carga el dataset empleando el fichero kinfey.py\n",
        "import knifey\n",
        "\n",
        "# Descarga el dataset, si no se ha descargado ya\n",
        "knifey.maybe_download_and_extract()\n",
        "\n",
        "# Adapta la estructura de carpetas para Keras\n",
        "knifey.copy_files()\n",
        "\n",
        "# Define las rutas a los directorios de train y test\n",
        "train_dir = knifey.train_dir\n",
        "test_dir = knifey.test_dir"
      ],
      "execution_count": 6,
      "outputs": [
        {
          "output_type": "stream",
          "text": [
            "Data has apparently already been downloaded and unpacked.\n",
            "Creating dataset from the files in: data/knifey-spoony/\n",
            "- Data loaded from cache-file: data/knifey-spoony/knifey-spoony.pkl\n",
            "- Copied training-set to: data/knifey-spoony/train/\n",
            "- Copied test-set to: data/knifey-spoony/test/\n"
          ],
          "name": "stdout"
        }
      ]
    },
    {
      "cell_type": "markdown",
      "metadata": {
        "colab_type": "text",
        "id": "BTWfUl-ZIYlt"
      },
      "source": [
        "## 4. El Canal de Entrada\n",
        "\n",
        "Para definir el pipeline de entrada para el modelo, primero necesitamos saber la forma de los tensores esperados como entrada por el modelo VGG16 pre-entrenado. En este caso, ¿qué forma tienen las imágenes de entrada?"
      ]
    },
    {
      "cell_type": "code",
      "metadata": {
        "colab_type": "code",
        "id": "uCCzzSLEIYlu",
        "colab": {
          "base_uri": "https://localhost:8080/",
          "height": 35
        },
        "outputId": "8df7edf8-5489-4926-e7d1-43c4dc97f9b3"
      },
      "source": [
        "input_shape = vggmodel.layers[0].output_shape[1:3]\n",
        "input_shape"
      ],
      "execution_count": 7,
      "outputs": [
        {
          "output_type": "execute_result",
          "data": {
            "text/plain": [
              "(224, 224)"
            ]
          },
          "metadata": {
            "tags": []
          },
          "execution_count": 7
        }
      ]
    },
    {
      "cell_type": "markdown",
      "metadata": {
        "colab_type": "text",
        "id": "IZVb4TpsIYlw"
      },
      "source": [
        "Define a continuación un *generador de datos* que haga aumentado mediante transformaciones aleatorias. Para VGG16, es necesario tan solo reescalar los píxeles a 1.0/255, así que no hace falta usar la función de preprocesamiento de entrada."
      ]
    },
    {
      "cell_type": "code",
      "metadata": {
        "colab_type": "code",
        "id": "mHxjWS03IYlx",
        "colab": {}
      },
      "source": [
        "datagen_train = ImageDataGenerator(\n",
        "      rescale=1./255, # En VGG16 el preprocesamiento es tan solo esta normalización\n",
        "      rotation_range=180,\n",
        "      width_shift_range=0.1,\n",
        "      height_shift_range=0.1,\n",
        "      shear_range=0.1,\n",
        "      zoom_range=[0.9, 1.5],\n",
        "      horizontal_flip=True,\n",
        "      vertical_flip=True,\n",
        "      fill_mode='nearest')\n",
        "\n",
        "datagen_test = ImageDataGenerator(rescale=1./255)"
      ],
      "execution_count": 8,
      "outputs": []
    },
    {
      "cell_type": "markdown",
      "metadata": {
        "colab_type": "text",
        "id": "B3JX5692IYl0"
      },
      "source": [
        "Debido a que el modelo VGG16 es muy grande, el tamaño del batch no puede ser demasiado grande."
      ]
    },
    {
      "cell_type": "code",
      "metadata": {
        "colab_type": "code",
        "id": "ZL3O-p5LIYl1",
        "colab": {}
      },
      "source": [
        "batch_size = 20"
      ],
      "execution_count": 9,
      "outputs": []
    },
    {
      "cell_type": "markdown",
      "metadata": {
        "colab_type": "text",
        "id": "_7cmwiLlIYl5"
      },
      "source": [
        "Podemos guardar las imágenes transformadas aleatoriamente durante el entrenamiento, para comprobar si han sido demasiado distorsionadas, por lo que tendríamos que ajustar los parámetros del generador de datos anterior."
      ]
    },
    {
      "cell_type": "code",
      "metadata": {
        "colab_type": "code",
        "id": "B6PWMMyaIYl5",
        "colab": {}
      },
      "source": [
        "if True:\n",
        "    save_to_dir = None\n",
        "else:\n",
        "    save_to_dir='augmented_images/'"
      ],
      "execution_count": 10,
      "outputs": []
    },
    {
      "cell_type": "markdown",
      "metadata": {
        "colab_type": "text",
        "id": "UN_KAovWIYl-"
      },
      "source": [
        "Ahora creamos el generador de datos real que leerá los archivos del disco, redimensionará las imágenes y devolverá un lote aleatorio."
      ]
    },
    {
      "cell_type": "code",
      "metadata": {
        "colab_type": "code",
        "id": "9503pHv7IYl-",
        "scrolled": true,
        "colab": {
          "base_uri": "https://localhost:8080/",
          "height": 52
        },
        "outputId": "6ca998e3-f302-4953-84a0-97b81d0f641c"
      },
      "source": [
        "generator_train = datagen_train.flow_from_directory(directory=train_dir,\n",
        "                                                    target_size=input_shape,\n",
        "                                                    batch_size=batch_size,\n",
        "                                                    shuffle=True,\n",
        "                                                    save_to_dir=save_to_dir)\n",
        "\n",
        "generator_test = datagen_test.flow_from_directory(directory=test_dir,\n",
        "                                                  target_size=input_shape,\n",
        "                                                  batch_size=batch_size,\n",
        "                                                  shuffle=False)"
      ],
      "execution_count": 11,
      "outputs": [
        {
          "output_type": "stream",
          "text": [
            "Found 4170 images belonging to 3 classes.\n",
            "Found 530 images belonging to 3 classes.\n"
          ],
          "name": "stdout"
        }
      ]
    },
    {
      "cell_type": "markdown",
      "metadata": {
        "colab_type": "text",
        "id": "-CxntulPIYmB"
      },
      "source": [
        "Debido a que nuestro conjunto de pruebas contiene 530 imágenes y el tamaño del batch está configurado en 20, el número de pasos es 26,5 para un procesamiento completo del conjunto de pruebas."
      ]
    },
    {
      "cell_type": "code",
      "metadata": {
        "colab_type": "code",
        "id": "GxPlmen3IYmC",
        "colab": {
          "base_uri": "https://localhost:8080/",
          "height": 35
        },
        "outputId": "933c2850-fa7d-41de-b82e-d26891bf8a10"
      },
      "source": [
        "steps_test = generator_test.n / batch_size\n",
        "steps_test"
      ],
      "execution_count": 12,
      "outputs": [
        {
          "output_type": "execute_result",
          "data": {
            "text/plain": [
              "26.5"
            ]
          },
          "metadata": {
            "tags": []
          },
          "execution_count": 12
        }
      ]
    },
    {
      "cell_type": "markdown",
      "metadata": {
        "colab_type": "text",
        "id": "ITl4WRVAIYmG"
      },
      "source": [
        "## 5. Clases del Conjunto de Datos "
      ]
    },
    {
      "cell_type": "markdown",
      "metadata": {
        "id": "P6UgVdEf2QYM",
        "colab_type": "text"
      },
      "source": [
        "Obtengamos las rutas de los ficheros para todas las imágenes en los conjuntos de entrenamiento y de pruebas. Nos vendrá bien para las funciones auxiliares para visualizar ejemplos del conjunto de entrenamiento y de test."
      ]
    },
    {
      "cell_type": "code",
      "metadata": {
        "id": "X7azD7md2TFR",
        "colab_type": "code",
        "colab": {}
      },
      "source": [
        "image_paths_train = path_join(train_dir, generator_train.filenames)\n",
        "image_paths_test = path_join(test_dir, generator_test.filenames)"
      ],
      "execution_count": 13,
      "outputs": []
    },
    {
      "cell_type": "markdown",
      "metadata": {
        "colab_type": "text",
        "id": "mDZYmV9WIYmP"
      },
      "source": [
        "Obtengamos las clasificaciones reales (el número correspondiente) de cada imagen en los conjuntos de training y test."
      ]
    },
    {
      "cell_type": "code",
      "metadata": {
        "colab_type": "code",
        "id": "0NBjj7-8IYmP",
        "colab": {}
      },
      "source": [
        "cls_train = generator_train.classes\n",
        "cls_test = generator_test.classes"
      ],
      "execution_count": 14,
      "outputs": []
    },
    {
      "cell_type": "markdown",
      "metadata": {
        "colab_type": "text",
        "id": "FUOuHCXEIYmV"
      },
      "source": [
        "Obtengamos los nombres correspondientes de las clases del dataset y el número de ellos."
      ]
    },
    {
      "cell_type": "code",
      "metadata": {
        "colab_type": "code",
        "id": "pKG8i_F_IYmV",
        "colab": {
          "base_uri": "https://localhost:8080/",
          "height": 35
        },
        "outputId": "e14849d4-bf6e-4659-af38-0f4506971ff0"
      },
      "source": [
        "class_names = list(generator_train.class_indices.keys())\n",
        "num_classes = generator_train.num_classes\n",
        "num_classes"
      ],
      "execution_count": 15,
      "outputs": [
        {
          "output_type": "execute_result",
          "data": {
            "text/plain": [
              "3"
            ]
          },
          "metadata": {
            "tags": []
          },
          "execution_count": 15
        }
      ]
    },
    {
      "cell_type": "markdown",
      "metadata": {
        "colab_type": "text",
        "id": "pKAI0ppRIYmb"
      },
      "source": [
        "Dado que el conjunto de datos Knifey-Spoony está bastante desequilibrado porque tiene pocas imágenes de tenedores, más imágenes de cuchillos y muchas más imágenes de cucharas. Así que vamos a calcular **pesos** que equilibrarán adecuadamente el conjunto de datos."
      ]
    },
    {
      "cell_type": "code",
      "metadata": {
        "colab_type": "code",
        "id": "AEtH-2iYIYmb",
        "colab": {}
      },
      "source": [
        "from sklearn.utils.class_weight import compute_class_weight\n",
        "class_weight = compute_class_weight(class_weight='balanced',\n",
        "                                    classes=np.unique(cls_train),\n",
        "                                    y=cls_train)"
      ],
      "execution_count": 16,
      "outputs": []
    },
    {
      "cell_type": "markdown",
      "metadata": {
        "colab_type": "text",
        "id": "EeU-Oh9RIYmd"
      },
      "source": [
        "## 6. Transfer Learning\n",
        "\n",
        "Primero imprimimos un resumen del modelo VGG16 para poder ver los nombres y tipos de sus capas, así como las formas de los tensores que fluyen entre las capas."
      ]
    },
    {
      "cell_type": "code",
      "metadata": {
        "colab_type": "code",
        "id": "2UnlAnpaIYme",
        "colab": {
          "base_uri": "https://localhost:8080/",
          "height": 953
        },
        "outputId": "9f145287-c6ee-4f51-b854-b2a3f4befec8"
      },
      "source": [
        "vggmodel.summary()"
      ],
      "execution_count": 17,
      "outputs": [
        {
          "output_type": "stream",
          "text": [
            "Model: \"vgg16\"\n",
            "_________________________________________________________________\n",
            "Layer (type)                 Output Shape              Param #   \n",
            "=================================================================\n",
            "input_1 (InputLayer)         (None, 224, 224, 3)       0         \n",
            "_________________________________________________________________\n",
            "block1_conv1 (Conv2D)        (None, 224, 224, 64)      1792      \n",
            "_________________________________________________________________\n",
            "block1_conv2 (Conv2D)        (None, 224, 224, 64)      36928     \n",
            "_________________________________________________________________\n",
            "block1_pool (MaxPooling2D)   (None, 112, 112, 64)      0         \n",
            "_________________________________________________________________\n",
            "block2_conv1 (Conv2D)        (None, 112, 112, 128)     73856     \n",
            "_________________________________________________________________\n",
            "block2_conv2 (Conv2D)        (None, 112, 112, 128)     147584    \n",
            "_________________________________________________________________\n",
            "block2_pool (MaxPooling2D)   (None, 56, 56, 128)       0         \n",
            "_________________________________________________________________\n",
            "block3_conv1 (Conv2D)        (None, 56, 56, 256)       295168    \n",
            "_________________________________________________________________\n",
            "block3_conv2 (Conv2D)        (None, 56, 56, 256)       590080    \n",
            "_________________________________________________________________\n",
            "block3_conv3 (Conv2D)        (None, 56, 56, 256)       590080    \n",
            "_________________________________________________________________\n",
            "block3_pool (MaxPooling2D)   (None, 28, 28, 256)       0         \n",
            "_________________________________________________________________\n",
            "block4_conv1 (Conv2D)        (None, 28, 28, 512)       1180160   \n",
            "_________________________________________________________________\n",
            "block4_conv2 (Conv2D)        (None, 28, 28, 512)       2359808   \n",
            "_________________________________________________________________\n",
            "block4_conv3 (Conv2D)        (None, 28, 28, 512)       2359808   \n",
            "_________________________________________________________________\n",
            "block4_pool (MaxPooling2D)   (None, 14, 14, 512)       0         \n",
            "_________________________________________________________________\n",
            "block5_conv1 (Conv2D)        (None, 14, 14, 512)       2359808   \n",
            "_________________________________________________________________\n",
            "block5_conv2 (Conv2D)        (None, 14, 14, 512)       2359808   \n",
            "_________________________________________________________________\n",
            "block5_conv3 (Conv2D)        (None, 14, 14, 512)       2359808   \n",
            "_________________________________________________________________\n",
            "block5_pool (MaxPooling2D)   (None, 7, 7, 512)         0         \n",
            "_________________________________________________________________\n",
            "flatten (Flatten)            (None, 25088)             0         \n",
            "_________________________________________________________________\n",
            "fc1 (Dense)                  (None, 4096)              102764544 \n",
            "_________________________________________________________________\n",
            "fc2 (Dense)                  (None, 4096)              16781312  \n",
            "_________________________________________________________________\n",
            "predictions (Dense)          (None, 1000)              4097000   \n",
            "=================================================================\n",
            "Total params: 138,357,544\n",
            "Trainable params: 138,357,544\n",
            "Non-trainable params: 0\n",
            "_________________________________________________________________\n"
          ],
          "name": "stdout"
        }
      ]
    },
    {
      "cell_type": "markdown",
      "metadata": {
        "colab_type": "text",
        "id": "6FTqKHLEIYmm"
      },
      "source": [
        "En este ejercicio vamos a extraer la parte convolucional de forma personalizada, es decir, desde la entrada hasta una capa deseada (de esta forma podrás hacer transfer learning desde otras capas). Comprueba como difiere esto a como lo habéis hecho en clase anteriormente (o [aquí](https://github.com/fsancho/DL/blob/master/4.%20Redes%20Convolucionales/4.3.%20CNN%20Preentrenadas.ipynb)).\n",
        "\n",
        "Podemos ver que la última capa convolucional se llama 'block5_pool', y podemos usar Keras para obtener una referencia a dicha capa."
      ]
    },
    {
      "cell_type": "code",
      "metadata": {
        "colab_type": "code",
        "id": "i6jBeo8EIYmn",
        "colab": {}
      },
      "source": [
        "transfer_layer = vggmodel.get_layer('block5_pool')"
      ],
      "execution_count": 18,
      "outputs": []
    },
    {
      "cell_type": "markdown",
      "metadata": {
        "colab_type": "text",
        "id": "Y5s6usqHIYmu"
      },
      "source": [
        "Nos referiremos a esta capa como la Capa de Transferencia (**Transfer Layer**), puesto que su salida será re-enrutada a nuestra nueva red neuronal completamente conectada que hará la clasificación final sobre el Knifey-Spoony dataset.\n",
        "\n",
        "La salida de la capa de transferencia tiene la siguiente forma:"
      ]
    },
    {
      "cell_type": "code",
      "metadata": {
        "colab_type": "code",
        "id": "i5Lip8PPIYmv",
        "colab": {
          "base_uri": "https://localhost:8080/",
          "height": 35
        },
        "outputId": "d63f7b69-d1f2-43d6-f238-26fb7a7ca324"
      },
      "source": [
        "transfer_layer.output"
      ],
      "execution_count": 19,
      "outputs": [
        {
          "output_type": "execute_result",
          "data": {
            "text/plain": [
              "<tf.Tensor 'block5_pool/MaxPool:0' shape=(None, 7, 7, 512) dtype=float32>"
            ]
          },
          "metadata": {
            "tags": []
          },
          "execution_count": 19
        }
      ]
    },
    {
      "cell_type": "markdown",
      "metadata": {
        "colab_type": "text",
        "id": "9cWI7ePHIYmy"
      },
      "source": [
        "Es muy sencillo crear un nuevo modelo usando la API de Keras. Primero tomamos la parte del modelo VGG16 desde su capa de entrada hasta la salida de la capa de transferencia. Podemos llamarlo el modelo convolucional, porque consiste en todas las capas convolucionales del modelo VGG16."
      ]
    },
    {
      "cell_type": "code",
      "metadata": {
        "colab_type": "code",
        "id": "d_7qDWHrIYmy",
        "colab": {}
      },
      "source": [
        "conv_model = Model(inputs=vggmodel.input,\n",
        "                   outputs=transfer_layer.output)"
      ],
      "execution_count": 20,
      "outputs": []
    },
    {
      "cell_type": "markdown",
      "metadata": {
        "colab_type": "text",
        "id": "jPuxlkH5IYm2"
      },
      "source": [
        "Podemos entonces usar Keras para construir un modelo nuevo encima de este."
      ]
    },
    {
      "cell_type": "code",
      "metadata": {
        "colab_type": "code",
        "id": "lBsCg7JpIYm3",
        "scrolled": true,
        "colab": {}
      },
      "source": [
        "# Creamos un nuevo modelo Secuencial de Keras\n",
        "nuevo_modelo = Sequential()\n",
        "\n",
        "# Añadimos la parte convolucional del modelo VGG16 de arriba\n",
        "nuevo_modelo.add(conv_model)\n",
        "\n",
        "# Aplanamos la salida del modelo VGG16 dado que ésta viene\n",
        "# de una capa convolucional.\n",
        "nuevo_modelo.add(Flatten())\n",
        "\n",
        "# Añade una capa densa (es decir, totalmente conectada o fully-connected).\n",
        "# Esto es para combinar las características que el modelo VGG16 ha\n",
        "# reconocido en la imagen. Usa como función de activación ReLu.\n",
        "nuevo_modelo.add(Dense(1024, activation='relu'))\n",
        "\n",
        "# Añade una capa dropout el cual prevendrá el sobreajuste y mejorará\n",
        "# la capacidad de generalización en datos desconocidos (es decir, el \n",
        "# conjunto de test). Usa un ratio de 0.5\n",
        "nuevo_modelo.add(Dropout(0.5))\n",
        "\n",
        "# Añade la capa final para la clasificación real, usando softmax.\n",
        "nuevo_modelo.add(Dense(num_classes, activation='softmax'))"
      ],
      "execution_count": 21,
      "outputs": []
    },
    {
      "cell_type": "markdown",
      "metadata": {
        "colab_type": "text",
        "id": "dt3OZNzqIYm5"
      },
      "source": [
        "Utilizamos el optimizador Adam con una tasa de aprendizaje bastante baja de 1e-5. La tasa de aprendizaje podría ser mayor, pero si se intenta entrenar más capas del modelo original VGG16, entonces la velocidad de aprendizaje debería ser bastante baja, de lo contrario los pesos preentrenados del modelo VGG16 se distorsionarán y no podrá aprender."
      ]
    },
    {
      "cell_type": "code",
      "metadata": {
        "colab_type": "code",
        "id": "sJRnpx1jIYm6",
        "colab": {}
      },
      "source": [
        "optimizer = Adam(learning_rate=1e-5)"
      ],
      "execution_count": 22,
      "outputs": []
    },
    {
      "cell_type": "markdown",
      "metadata": {
        "colab_type": "text",
        "id": "-57CuXcEIYm8"
      },
      "source": [
        "Tenemos 3 clases en el Knifey-Spoony dataset, por lo que Keras necesita usar una **función de pérdida** (loss function)."
      ]
    },
    {
      "cell_type": "code",
      "metadata": {
        "colab_type": "code",
        "id": "VakMjiDlIYm8",
        "colab": {}
      },
      "source": [
        "loss = 'categorical_crossentropy'"
      ],
      "execution_count": 23,
      "outputs": []
    },
    {
      "cell_type": "markdown",
      "metadata": {
        "colab_type": "text",
        "id": "w8BJ_RATIYm_"
      },
      "source": [
        "La única **métrica de rendimiento** en la que estamos interesados es en la precisión de clasificación (clasiffication accuracy)."
      ]
    },
    {
      "cell_type": "code",
      "metadata": {
        "colab_type": "code",
        "id": "eWL9wENYIYm_",
        "colab": {}
      },
      "source": [
        "metrics = ['categorical_accuracy']"
      ],
      "execution_count": 24,
      "outputs": []
    },
    {
      "cell_type": "markdown",
      "metadata": {
        "colab_type": "text",
        "id": "-KaJjO4CIYnC"
      },
      "source": [
        "Función auxiliar para imprimir si la capa en el modelo VGG16 debe ser entrenada."
      ]
    },
    {
      "cell_type": "code",
      "metadata": {
        "colab_type": "code",
        "id": "QH-TU1-2IYnD",
        "colab": {
          "base_uri": "https://localhost:8080/",
          "height": 347
        },
        "outputId": "c3becd1d-c8d2-4cb6-93a5-b54abea08a69"
      },
      "source": [
        "def print_layer_trainable():\n",
        "    for layer in conv_model.layers:\n",
        "        print(\"{0}:\\t{1}\".format(layer.trainable, layer.name))\n",
        "    \n",
        "print_layer_trainable()"
      ],
      "execution_count": 25,
      "outputs": [
        {
          "output_type": "stream",
          "text": [
            "False:\tinput_1\n",
            "True:\tblock1_conv1\n",
            "True:\tblock1_conv2\n",
            "True:\tblock1_pool\n",
            "True:\tblock2_conv1\n",
            "True:\tblock2_conv2\n",
            "True:\tblock2_pool\n",
            "True:\tblock3_conv1\n",
            "True:\tblock3_conv2\n",
            "True:\tblock3_conv3\n",
            "True:\tblock3_pool\n",
            "True:\tblock4_conv1\n",
            "True:\tblock4_conv2\n",
            "True:\tblock4_conv3\n",
            "True:\tblock4_pool\n",
            "True:\tblock5_conv1\n",
            "True:\tblock5_conv2\n",
            "True:\tblock5_conv3\n",
            "True:\tblock5_pool\n"
          ],
          "name": "stdout"
        }
      ]
    },
    {
      "cell_type": "markdown",
      "metadata": {
        "colab_type": "text",
        "id": "V9P6HBDBIYnH"
      },
      "source": [
        "Por defecto, todas las capas del modelo VGG16 son entrenables."
      ]
    },
    {
      "cell_type": "markdown",
      "metadata": {
        "colab_type": "text",
        "id": "wCOodbuvIYnI"
      },
      "source": [
        "En transfer learning estamos inicialmente interesados tan solo en reusar el modelo VGG16 tal cual, como un **extractor de características**, por lo que deshabilitaremos el entrenamiento en todas sus capas."
      ]
    },
    {
      "cell_type": "code",
      "metadata": {
        "colab_type": "code",
        "id": "BwlonlTlIYnJ",
        "colab": {}
      },
      "source": [
        "conv_model.trainable = False"
      ],
      "execution_count": 26,
      "outputs": []
    },
    {
      "cell_type": "code",
      "metadata": {
        "colab_type": "code",
        "id": "OjBmyocjIYnN",
        "colab": {}
      },
      "source": [
        "for layer in conv_model.layers:\n",
        "    layer.trainable = False"
      ],
      "execution_count": 27,
      "outputs": []
    },
    {
      "cell_type": "code",
      "metadata": {
        "colab_type": "code",
        "id": "46B8BRI9IYnQ",
        "colab": {
          "base_uri": "https://localhost:8080/",
          "height": 347
        },
        "outputId": "9f3bad42-1325-4418-aae2-906335fd15b1"
      },
      "source": [
        "print_layer_trainable()"
      ],
      "execution_count": 28,
      "outputs": [
        {
          "output_type": "stream",
          "text": [
            "False:\tinput_1\n",
            "False:\tblock1_conv1\n",
            "False:\tblock1_conv2\n",
            "False:\tblock1_pool\n",
            "False:\tblock2_conv1\n",
            "False:\tblock2_conv2\n",
            "False:\tblock2_pool\n",
            "False:\tblock3_conv1\n",
            "False:\tblock3_conv2\n",
            "False:\tblock3_conv3\n",
            "False:\tblock3_pool\n",
            "False:\tblock4_conv1\n",
            "False:\tblock4_conv2\n",
            "False:\tblock4_conv3\n",
            "False:\tblock4_pool\n",
            "False:\tblock5_conv1\n",
            "False:\tblock5_conv2\n",
            "False:\tblock5_conv3\n",
            "False:\tblock5_pool\n"
          ],
          "name": "stdout"
        }
      ]
    },
    {
      "cell_type": "markdown",
      "metadata": {
        "colab_type": "text",
        "id": "3g4uPwR8IYnS"
      },
      "source": [
        "Una vez que hayamos cambiado si las capas del modelos son entrenables, necesitamos compilarlo para que los cambios surtan efecto."
      ]
    },
    {
      "cell_type": "code",
      "metadata": {
        "colab_type": "code",
        "id": "_fdf_8STIYnT",
        "colab": {}
      },
      "source": [
        "nuevo_modelo.compile(optimizer=optimizer, loss=loss, metrics=metrics)"
      ],
      "execution_count": 29,
      "outputs": []
    },
    {
      "cell_type": "markdown",
      "metadata": {
        "colab_type": "text",
        "id": "iask_euDIYnd"
      },
      "source": [
        "A continuación entrenamos el nuevo modelo, lo que se hace con tan solo una llamada a una función en la API de Keras. Definimos 20 épocas y 100 pasos por época (ya que tenemos batches de 20)."
      ]
    },
    {
      "cell_type": "code",
      "metadata": {
        "colab_type": "code",
        "id": "Y9Tby_mUIYne",
        "scrolled": true,
        "colab": {
          "base_uri": "https://localhost:8080/",
          "height": 731
        },
        "outputId": "c4e5efc9-892f-4354-ea47-be5806e0d7af"
      },
      "source": [
        "epochs = 20\n",
        "steps_per_epoch = 100\n",
        "history = nuevo_modelo.fit_generator(generator=generator_train,\n",
        "                                     epochs=epochs,\n",
        "                                     steps_per_epoch=steps_per_epoch,\n",
        "                                     class_weight=class_weight,\n",
        "                                     validation_data=generator_test,\n",
        "                                     validation_steps=steps_test)"
      ],
      "execution_count": 30,
      "outputs": [
        {
          "output_type": "stream",
          "text": [
            "Epoch 1/20\n",
            "100/100 [==============================] - 46s 457ms/step - loss: 1.1245 - categorical_accuracy: 0.4500 - val_loss: 0.7292 - val_categorical_accuracy: 0.7547\n",
            "Epoch 2/20\n",
            "100/100 [==============================] - 39s 393ms/step - loss: 0.9389 - categorical_accuracy: 0.5492 - val_loss: 0.7426 - val_categorical_accuracy: 0.8283\n",
            "Epoch 3/20\n",
            "100/100 [==============================] - 41s 413ms/step - loss: 0.8218 - categorical_accuracy: 0.6256 - val_loss: 0.6266 - val_categorical_accuracy: 0.7226\n",
            "Epoch 4/20\n",
            "100/100 [==============================] - 39s 389ms/step - loss: 0.7926 - categorical_accuracy: 0.6440 - val_loss: 0.6802 - val_categorical_accuracy: 0.8528\n",
            "Epoch 5/20\n",
            "100/100 [==============================] - 40s 401ms/step - loss: 0.7220 - categorical_accuracy: 0.6755 - val_loss: 0.7621 - val_categorical_accuracy: 0.8585\n",
            "Epoch 6/20\n",
            "100/100 [==============================] - 39s 394ms/step - loss: 0.6904 - categorical_accuracy: 0.6980 - val_loss: 0.8826 - val_categorical_accuracy: 0.8208\n",
            "Epoch 7/20\n",
            "100/100 [==============================] - 39s 394ms/step - loss: 0.6469 - categorical_accuracy: 0.7286 - val_loss: 1.0452 - val_categorical_accuracy: 0.7868\n",
            "Epoch 8/20\n",
            "100/100 [==============================] - 39s 394ms/step - loss: 0.6335 - categorical_accuracy: 0.7320 - val_loss: 0.9290 - val_categorical_accuracy: 0.8000\n",
            "Epoch 9/20\n",
            "100/100 [==============================] - 39s 395ms/step - loss: 0.6182 - categorical_accuracy: 0.7437 - val_loss: 0.6341 - val_categorical_accuracy: 0.8302\n",
            "Epoch 10/20\n",
            "100/100 [==============================] - 40s 396ms/step - loss: 0.5799 - categorical_accuracy: 0.7605 - val_loss: 0.5824 - val_categorical_accuracy: 0.8340\n",
            "Epoch 11/20\n",
            "100/100 [==============================] - 40s 397ms/step - loss: 0.5718 - categorical_accuracy: 0.7590 - val_loss: 0.8940 - val_categorical_accuracy: 0.8019\n",
            "Epoch 12/20\n",
            "100/100 [==============================] - 40s 395ms/step - loss: 0.5525 - categorical_accuracy: 0.7645 - val_loss: 1.0727 - val_categorical_accuracy: 0.7264\n",
            "Epoch 13/20\n",
            "100/100 [==============================] - 39s 393ms/step - loss: 0.5638 - categorical_accuracy: 0.7724 - val_loss: 1.0919 - val_categorical_accuracy: 0.7660\n",
            "Epoch 14/20\n",
            "100/100 [==============================] - 40s 395ms/step - loss: 0.5530 - categorical_accuracy: 0.7750 - val_loss: 0.9038 - val_categorical_accuracy: 0.7623\n",
            "Epoch 15/20\n",
            "100/100 [==============================] - 39s 392ms/step - loss: 0.5210 - categorical_accuracy: 0.7894 - val_loss: 1.0663 - val_categorical_accuracy: 0.7736\n",
            "Epoch 16/20\n",
            "100/100 [==============================] - 39s 394ms/step - loss: 0.5113 - categorical_accuracy: 0.7895 - val_loss: 0.5970 - val_categorical_accuracy: 0.8113\n",
            "Epoch 17/20\n",
            "100/100 [==============================] - 39s 390ms/step - loss: 0.5217 - categorical_accuracy: 0.7854 - val_loss: 0.8493 - val_categorical_accuracy: 0.7736\n",
            "Epoch 18/20\n",
            "100/100 [==============================] - 39s 394ms/step - loss: 0.5019 - categorical_accuracy: 0.7970 - val_loss: 1.0682 - val_categorical_accuracy: 0.7604\n",
            "Epoch 19/20\n",
            "100/100 [==============================] - 40s 396ms/step - loss: 0.4845 - categorical_accuracy: 0.8010 - val_loss: 1.0850 - val_categorical_accuracy: 0.7509\n",
            "Epoch 20/20\n",
            "100/100 [==============================] - 39s 394ms/step - loss: 0.4906 - categorical_accuracy: 0.7985 - val_loss: 0.9021 - val_categorical_accuracy: 0.7736\n"
          ],
          "name": "stdout"
        }
      ]
    },
    {
      "cell_type": "markdown",
      "metadata": {
        "colab_type": "text",
        "id": "WqKzBQnmIYno"
      },
      "source": [
        "Mostremos la gráfica de evolución de las métricas."
      ]
    },
    {
      "cell_type": "code",
      "metadata": {
        "colab_type": "code",
        "id": "gPM9vkanIYnq",
        "scrolled": true,
        "colab": {
          "base_uri": "https://localhost:8080/",
          "height": 281
        },
        "outputId": "24f1c00e-ac24-4380-999f-8192e2e2c11b"
      },
      "source": [
        "plot_training_history(history)"
      ],
      "execution_count": 31,
      "outputs": [
        {
          "output_type": "display_data",
          "data": {
            "image/png": "[encoded data removed]",
            "text/plain": [
              "<Figure size 432x288 with 1 Axes>"
            ]
          },
          "metadata": {
            "tags": [],
            "needs_background": "light"
          }
        }
      ]
    },
    {
      "cell_type": "markdown",
      "metadata": {
        "colab_type": "text",
        "id": "qqe72_2bIYnw"
      },
      "source": [
        "Después del entrenamiento también podemos evaluar el rendimiento del nuevo modelo en el conjunto de pruebas usando una sola llamada de función en la API de Keras."
      ]
    },
    {
      "cell_type": "code",
      "metadata": {
        "colab_type": "code",
        "id": "u9Kb2mkyIYnw",
        "scrolled": true,
        "colab": {}
      },
      "source": [
        "result = nuevo_modelo.evaluate_generator(generator_test, steps=steps_test)"
      ],
      "execution_count": 32,
      "outputs": []
    },
    {
      "cell_type": "code",
      "metadata": {
        "colab_type": "code",
        "id": "hU1ltSOOIYn0",
        "scrolled": true,
        "colab": {
          "base_uri": "https://localhost:8080/",
          "height": 35
        },
        "outputId": "ab571454-3916-40d4-e634-eec459be56ae"
      },
      "source": [
        "print(\"Test-set classification accuracy: {0:.2%}\".format(result[1]))"
      ],
      "execution_count": 33,
      "outputs": [
        {
          "output_type": "stream",
          "text": [
            "Test-set classification accuracy: 77.36%\n"
          ],
          "name": "stdout"
        }
      ]
    },
    {
      "cell_type": "markdown",
      "metadata": {
        "colab_type": "text",
        "id": "fU1zeX9VIYn2"
      },
      "source": [
        "Podemos representar algunos ejemplos de imágenes mal clasificadas del conjunto de pruebas. "
      ]
    },
    {
      "cell_type": "code",
      "metadata": {
        "colab_type": "code",
        "id": "Yzv7ra1xIYn2",
        "colab": {
          "base_uri": "https://localhost:8080/",
          "height": 395
        },
        "outputId": "0e1e1742-de83-4a73-9e73-ac6360a32fc4"
      },
      "source": [
        "example_errors(model=nuevo_modelo)"
      ],
      "execution_count": 34,
      "outputs": [
        {
          "output_type": "display_data",
          "data": {
            "image/png": "[encoded data removed]",
            "text/plain": [
              "<Figure size 432x288 with 9 Axes>"
            ]
          },
          "metadata": {
            "tags": []
          }
        },
        {
          "output_type": "stream",
          "text": [
            "Matriz de confusión:\n",
            "[[139   8   4]\n",
            " [ 56  80   1]\n",
            " [ 44   7 191]]\n",
            "(0) forky\n",
            "(1) knifey\n",
            "(2) spoony\n"
          ],
          "name": "stdout"
        }
      ]
    },
    {
      "cell_type": "markdown",
      "metadata": {
        "colab_type": "text",
        "id": "mc4q8J-ZIYn4"
      },
      "source": [
        "### 7. Fine-Tuning\n",
        "\n",
        "Podemos tratar de afinar suavemente algunas de las capas más profundas del modelo VGG16 también. A esto lo llamamos \"Ajuste fino\", o **Fine Tuning**.\n",
        "\n",
        "No está claro si Keras usa el booleano `trainable` en cada capa del modelo original VGG16 o si es anulado por el booleano `trainable` en la'meta-capa' que llamamos `conv_layer`. Así que habilitaremos el booleano `trainable` tanto para `conv_layer` como para todas las capas relevantes en el modelo original VGG16."
      ]
    },
    {
      "cell_type": "code",
      "metadata": {
        "colab_type": "code",
        "id": "-T2HZwcfIYn5",
        "colab": {}
      },
      "source": [
        "conv_model.trainable = True"
      ],
      "execution_count": 35,
      "outputs": []
    },
    {
      "cell_type": "markdown",
      "metadata": {
        "colab_type": "text",
        "id": "4AIFavVsIYn7"
      },
      "source": [
        "Queremos entrenar las últimas dos capas convolucionales, es decir, cuyos nombres contienen 'block5' o 'block4'."
      ]
    },
    {
      "cell_type": "code",
      "metadata": {
        "colab_type": "code",
        "id": "LmNYiVoqIYn7",
        "colab": {}
      },
      "source": [
        "for layer in conv_model.layers:\n",
        "    # Booleano de si la capa es entrenable\n",
        "    trainable = ('block5' in layer.name or 'block4' in layer.name)\n",
        "    \n",
        "    # Ajusta el booleano de la capa\n",
        "    layer.trainable = trainable"
      ],
      "execution_count": 36,
      "outputs": []
    },
    {
      "cell_type": "markdown",
      "metadata": {
        "colab_type": "text",
        "id": "LhxqtJ7pIYn8"
      },
      "source": [
        "Podemos comprobar que esto ha actualizado el booleano `trainable` para las capas relevantes."
      ]
    },
    {
      "cell_type": "code",
      "metadata": {
        "colab_type": "code",
        "id": "OMVFTd4nIYn8",
        "colab": {
          "base_uri": "https://localhost:8080/",
          "height": 347
        },
        "outputId": "a347cff8-5bf4-427b-bc4d-9c15a2fa02f3"
      },
      "source": [
        "print_layer_trainable()"
      ],
      "execution_count": 37,
      "outputs": [
        {
          "output_type": "stream",
          "text": [
            "False:\tinput_1\n",
            "False:\tblock1_conv1\n",
            "False:\tblock1_conv2\n",
            "False:\tblock1_pool\n",
            "False:\tblock2_conv1\n",
            "False:\tblock2_conv2\n",
            "False:\tblock2_pool\n",
            "False:\tblock3_conv1\n",
            "False:\tblock3_conv2\n",
            "False:\tblock3_conv3\n",
            "False:\tblock3_pool\n",
            "True:\tblock4_conv1\n",
            "True:\tblock4_conv2\n",
            "True:\tblock4_conv3\n",
            "True:\tblock4_pool\n",
            "True:\tblock5_conv1\n",
            "True:\tblock5_conv2\n",
            "True:\tblock5_conv3\n",
            "True:\tblock5_pool\n"
          ],
          "name": "stdout"
        }
      ]
    },
    {
      "cell_type": "markdown",
      "metadata": {
        "colab_type": "text",
        "id": "j93hktLdIYn-"
      },
      "source": [
        "Usaremos el optimizador Adam con un bajo factor de aprendizaje bajo para el ajuste fino, 1e-7."
      ]
    },
    {
      "cell_type": "code",
      "metadata": {
        "colab_type": "code",
        "id": "s_r2O5iHIYn-",
        "colab": {}
      },
      "source": [
        "optimizer_fine = Adam(lr=1e-7)"
      ],
      "execution_count": 38,
      "outputs": []
    },
    {
      "cell_type": "markdown",
      "metadata": {
        "colab_type": "text",
        "id": "Ibmrb2bSIYoD"
      },
      "source": [
        "Dado que hemos definido un nuevo optimizador y hemos cambiado los booleanos `trainable` para muchas de las capas en el modelo, necesitamos recompilarlo para que los cambios hagan efecto."
      ]
    },
    {
      "cell_type": "code",
      "metadata": {
        "colab_type": "code",
        "id": "R9wcT5iGIYoE",
        "colab": {}
      },
      "source": [
        "nuevo_modelo.compile(optimizer=optimizer_fine, loss=loss, metrics=metrics)"
      ],
      "execution_count": 39,
      "outputs": []
    },
    {
      "cell_type": "markdown",
      "metadata": {
        "colab_type": "text",
        "id": "EaVRbGXZIYoH"
      },
      "source": [
        "Continuamos por tanto con el entrenamiento por donde lo dejamos anteriormente, ahora aplicando fine-tuning al modelo VGG16 y el nuevo clasificador. Sigamos con 20 épocas."
      ]
    },
    {
      "cell_type": "code",
      "metadata": {
        "colab_type": "code",
        "id": "Qk0huhXRIYoH",
        "scrolled": true,
        "colab": {
          "base_uri": "https://localhost:8080/",
          "height": 731
        },
        "outputId": "6345e13a-08c3-4bac-c23f-883bcb0e86f5"
      },
      "source": [
        "history = nuevo_modelo.fit_generator(generator=generator_train,\n",
        "                                     epochs=epochs,\n",
        "                                     steps_per_epoch=steps_per_epoch,\n",
        "                                     class_weight=class_weight,\n",
        "                                     validation_data=generator_test,\n",
        "                                     validation_steps=steps_test)"
      ],
      "execution_count": 40,
      "outputs": [
        {
          "output_type": "stream",
          "text": [
            "Epoch 1/20\n",
            "100/100 [==============================] - 48s 475ms/step - loss: 0.4733 - categorical_accuracy: 0.8141 - val_loss: 0.9531 - val_categorical_accuracy: 0.7642\n",
            "Epoch 2/20\n",
            "100/100 [==============================] - 45s 453ms/step - loss: 0.4826 - categorical_accuracy: 0.8060 - val_loss: 0.9522 - val_categorical_accuracy: 0.7660\n",
            "Epoch 3/20\n",
            "100/100 [==============================] - 46s 463ms/step - loss: 0.4430 - categorical_accuracy: 0.8241 - val_loss: 0.9639 - val_categorical_accuracy: 0.7660\n",
            "Epoch 4/20\n",
            "100/100 [==============================] - 45s 453ms/step - loss: 0.4528 - categorical_accuracy: 0.8180 - val_loss: 0.9268 - val_categorical_accuracy: 0.7642\n",
            "Epoch 5/20\n",
            "100/100 [==============================] - 46s 462ms/step - loss: 0.4331 - categorical_accuracy: 0.8265 - val_loss: 0.9301 - val_categorical_accuracy: 0.7698\n",
            "Epoch 6/20\n",
            "100/100 [==============================] - 45s 451ms/step - loss: 0.4462 - categorical_accuracy: 0.8231 - val_loss: 0.9464 - val_categorical_accuracy: 0.7698\n",
            "Epoch 7/20\n",
            "100/100 [==============================] - 46s 461ms/step - loss: 0.4449 - categorical_accuracy: 0.8170 - val_loss: 0.9252 - val_categorical_accuracy: 0.7736\n",
            "Epoch 8/20\n",
            "100/100 [==============================] - 45s 451ms/step - loss: 0.4091 - categorical_accuracy: 0.8352 - val_loss: 0.9631 - val_categorical_accuracy: 0.7623\n",
            "Epoch 9/20\n",
            "100/100 [==============================] - 46s 461ms/step - loss: 0.4317 - categorical_accuracy: 0.8275 - val_loss: 0.9440 - val_categorical_accuracy: 0.7660\n",
            "Epoch 10/20\n",
            "100/100 [==============================] - 45s 451ms/step - loss: 0.4189 - categorical_accuracy: 0.8377 - val_loss: 0.9847 - val_categorical_accuracy: 0.7585\n",
            "Epoch 11/20\n",
            "100/100 [==============================] - 46s 460ms/step - loss: 0.4193 - categorical_accuracy: 0.8315 - val_loss: 0.9305 - val_categorical_accuracy: 0.7660\n",
            "Epoch 12/20\n",
            "100/100 [==============================] - 45s 452ms/step - loss: 0.4065 - categorical_accuracy: 0.8312 - val_loss: 0.9465 - val_categorical_accuracy: 0.7623\n",
            "Epoch 13/20\n",
            "100/100 [==============================] - 46s 459ms/step - loss: 0.4010 - categorical_accuracy: 0.8315 - val_loss: 0.9290 - val_categorical_accuracy: 0.7698\n",
            "Epoch 14/20\n",
            "100/100 [==============================] - 45s 453ms/step - loss: 0.4241 - categorical_accuracy: 0.8320 - val_loss: 0.9196 - val_categorical_accuracy: 0.7717\n",
            "Epoch 15/20\n",
            "100/100 [==============================] - 46s 455ms/step - loss: 0.3920 - categorical_accuracy: 0.8482 - val_loss: 0.9291 - val_categorical_accuracy: 0.7660\n",
            "Epoch 16/20\n",
            "100/100 [==============================] - 45s 453ms/step - loss: 0.3718 - categorical_accuracy: 0.8490 - val_loss: 0.9454 - val_categorical_accuracy: 0.7604\n",
            "Epoch 17/20\n",
            "100/100 [==============================] - 45s 455ms/step - loss: 0.3853 - categorical_accuracy: 0.8508 - val_loss: 0.9414 - val_categorical_accuracy: 0.7604\n",
            "Epoch 18/20\n",
            "100/100 [==============================] - 45s 452ms/step - loss: 0.3947 - categorical_accuracy: 0.8392 - val_loss: 0.8769 - val_categorical_accuracy: 0.7755\n",
            "Epoch 19/20\n",
            "100/100 [==============================] - 45s 454ms/step - loss: 0.4059 - categorical_accuracy: 0.8275 - val_loss: 0.8923 - val_categorical_accuracy: 0.7698\n",
            "Epoch 20/20\n",
            "100/100 [==============================] - 45s 451ms/step - loss: 0.4044 - categorical_accuracy: 0.8347 - val_loss: 0.8870 - val_categorical_accuracy: 0.7717\n"
          ],
          "name": "stdout"
        }
      ]
    },
    {
      "cell_type": "markdown",
      "metadata": {
        "colab_type": "text",
        "id": "qkBfoISEIYoJ"
      },
      "source": [
        "Luego podemos mostrar gráficamente los valores de pérdida y precisión de la clasificación a partir del entrenamiento. "
      ]
    },
    {
      "cell_type": "code",
      "metadata": {
        "colab_type": "code",
        "id": "qRR60KjoIYoJ",
        "colab": {
          "base_uri": "https://localhost:8080/",
          "height": 281
        },
        "outputId": "28fd789f-f4cc-47bf-a7be-b11fdc6d4aa4"
      },
      "source": [
        "plot_training_history(history)"
      ],
      "execution_count": 41,
      "outputs": [
        {
          "output_type": "display_data",
          "data": {
            "image/png": "[encoded data removed]",
            "text/plain": [
              "<Figure size 432x288 with 1 Axes>"
            ]
          },
          "metadata": {
            "tags": [],
            "needs_background": "light"
          }
        }
      ]
    },
    {
      "cell_type": "code",
      "metadata": {
        "colab_type": "code",
        "id": "Vj7i1NkNIYoM",
        "colab": {}
      },
      "source": [
        "result = nuevo_modelo.evaluate_generator(generator_test, steps=steps_test)"
      ],
      "execution_count": 42,
      "outputs": []
    },
    {
      "cell_type": "code",
      "metadata": {
        "colab_type": "code",
        "id": "ZI9aWsCsIYoO",
        "colab": {
          "base_uri": "https://localhost:8080/",
          "height": 35
        },
        "outputId": "80c88750-c778-462e-8715-4c4940197942"
      },
      "source": [
        "print(\"Test-set classification accuracy: {0:.2%}\".format(result[1]))"
      ],
      "execution_count": 43,
      "outputs": [
        {
          "output_type": "stream",
          "text": [
            "Test-set classification accuracy: 77.17%\n"
          ],
          "name": "stdout"
        }
      ]
    },
    {
      "cell_type": "markdown",
      "metadata": {
        "colab_type": "text",
        "id": "zCt4vpP6IYoP"
      },
      "source": [
        "Podemos volver a mostrar algunos ejemplos de imágenes mal clasificadas, y también podemos ver en la matriz de confusión que el modelo sigue teniendo problemas para clasificar correctamente los tenedores."
      ]
    },
    {
      "cell_type": "code",
      "metadata": {
        "colab_type": "code",
        "id": "JOohX753IYoQ",
        "scrolled": true,
        "colab": {
          "base_uri": "https://localhost:8080/",
          "height": 395
        },
        "outputId": "93ab01d7-c41c-455e-9278-a0fa8b30d036"
      },
      "source": [
        "example_errors(model=nuevo_modelo)"
      ],
      "execution_count": 44,
      "outputs": [
        {
          "output_type": "display_data",
          "data": {
            "image/png": "[encoded data removed]",
            "text/plain": [
              "<Figure size 432x288 with 9 Axes>"
            ]
          },
          "metadata": {
            "tags": []
          }
        },
        {
          "output_type": "stream",
          "text": [
            "Matriz de confusión:\n",
            "[[140   7   4]\n",
            " [ 58  79   0]\n",
            " [ 47   5 190]]\n",
            "(0) forky\n",
            "(1) knifey\n",
            "(2) spoony\n"
          ],
          "name": "stdout"
        }
      ]
    },
    {
      "cell_type": "markdown",
      "metadata": {
        "id": "6O-QAjuHGPs-",
        "colab_type": "text"
      },
      "source": [
        "## License (MIT)\n",
        "\n",
        "Based on the TensorFlow tutorials by [Magnus Erik Hvass Pedersen](http://www.hvass-labs.org/)\n",
        "/ [GitHub](https://github.com/Hvass-Labs/TensorFlow-Tutorials) / [Videos on YouTube](https://www.youtube.com/playlist?list=PL9Hr9sNUjfsmEu1ZniY0XpHSzl5uihcXZ)\n",
        "\n",
        "Copyright (c) 2016-2017 by [Magnus Erik Hvass Pedersen](http://www.hvass-labs.org/)\n",
        "\n",
        "Permission is hereby granted, free of charge, to any person obtaining a copy of this software and associated documentation files (the \"Software\"), to deal in the Software without restriction, including without limitation the rights to use, copy, modify, merge, publish, distribute, sublicense, and/or sell copies of the Software, and to permit persons to whom the Software is furnished to do so, subject to the following conditions:\n",
        "\n",
        "The above copyright notice and this permission notice shall be included in all copies or substantial portions of the Software.\n",
        "\n",
        "THE SOFTWARE IS PROVIDED \"AS IS\", WITHOUT WARRANTY OF ANY KIND, EXPRESS OR IMPLIED, INCLUDING BUT NOT LIMITED TO THE WARRANTIES OF MERCHANTABILITY, FITNESS FOR A PARTICULAR PURPOSE AND NONINFRINGEMENT. IN NO EVENT SHALL THE AUTHORS OR COPYRIGHT HOLDERS BE LIABLE FOR ANY CLAIM, DAMAGES OR OTHER LIABILITY, WHETHER IN AN ACTION OF CONTRACT, TORT OR OTHERWISE, ARISING FROM, OUT OF OR IN CONNECTION WITH THE SOFTWARE OR THE USE OR OTHER DEALINGS IN THE SOFTWARE."
      ]
    }
  ]
}